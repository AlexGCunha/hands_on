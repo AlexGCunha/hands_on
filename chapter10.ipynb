{
  "cells": [
    {
      "cell_type": "markdown",
      "metadata": {
        "id": "EPw_8-Sl3cTQ"
      },
      "source": [
        "### 1) This question is about using a webtool, without the need for any written answers."
      ]
    },
    {
      "cell_type": "markdown",
      "metadata": {
        "id": "vXuWVxEv3cTQ"
      },
      "source": [
        "### 2) Draw an ANN using the original artificial neurons (like the ones in Figure 10-3) that computes A ⊕ B = (A ∧ ¬B) ∨ (¬ A V B)."
      ]
    },
    {
      "cell_type": "markdown",
      "metadata": {
        "id": "7JQdnMvt3cTR"
      },
      "source": [
        "Done on paper"
      ]
    },
    {
      "cell_type": "markdown",
      "metadata": {
        "id": "zw138upk3cTR"
      },
      "source": [
        "### 3) Why is it generally prefrable to use a logistic regression classifier rather than a classic perceptron (i.e., a single layer of threshold logic units trained using the perceptron training algorithm)? How can you tweak a perceptron to make it equivalent to a logistic regression classifier?"
      ]
    },
    {
      "cell_type": "markdown",
      "metadata": {
        "id": "YCuct2p53cTR"
      },
      "source": [
        "Because a common perceptron supposes linearly separable datasets. That is, if the decision boundary is not linear, than a classic perceptron won't be able to correctlt classify instances, whereas a logistic regression could potentially do. If you change the output activation function to a sigmoid, and train it with gradient descent or other equivalent method, than it will converge to the same result as in a usual logistic regression, with class probabilities."
      ]
    },
    {
      "cell_type": "markdown",
      "metadata": {
        "id": "QKslu8iQ3cTR"
      },
      "source": [
        "### 4) Why was the sigmoid activation function a key ingredient in training the first MLPs?"
      ]
    },
    {
      "cell_type": "markdown",
      "metadata": {
        "id": "w29nHAWG3cTS"
      },
      "source": [
        "Because the sigmoid's derivative is always non-zero, gradient descent methods will keep iterating and converging to global minimum, whereas other activation functions, like step functions, where the derivative is always equal to zero, it cannot converge to global minimum"
      ]
    },
    {
      "cell_type": "markdown",
      "metadata": {
        "id": "ClVoey9M3cTS"
      },
      "source": [
        "### 5) Name three popular activation functions. Can you draw them?"
      ]
    },
    {
      "cell_type": "markdown",
      "metadata": {
        "id": "LuiU2fJK3cTS"
      },
      "source": [
        "Relu is 0 for values lower than 0 45 degrees linear for values higher than 0 (y = 0 if x <= 0; y = x if x >0).\n",
        "\n",
        "Sigmoid is a S-shaped curve that takes values from -infinity to +infinity and maps then to (0,1)\n",
        "\n",
        "Linear activation functions make a linear transformation on the inputs, mapping then to a single output."
      ]
    },
    {
      "cell_type": "markdown",
      "metadata": {
        "id": "wEP8KJwT3cTS"
      },
      "source": [
        "### 6) Suppose you have an MLP composed of one input layer with 10 passthough neurons, followed by one hidden layer with 50 artificial neurons, and finally one output layer with 3 artificial neurons. All artificial neurons use the ReLU activation function."
      ]
    },
    {
      "cell_type": "markdown",
      "metadata": {
        "id": "FV4Xo5FH3cTS"
      },
      "source": [
        "a) What is the shape of the input matrix $\\textbf{X}$?"
      ]
    },
    {
      "cell_type": "markdown",
      "metadata": {
        "id": "BmHR06jF3cTS"
      },
      "source": [
        "Suppose you have m instances. Then $\\textbf{X}$ is mx10."
      ]
    },
    {
      "cell_type": "markdown",
      "metadata": {
        "id": "JBpR2IjZ3cTT"
      },
      "source": [
        "b) What are the shapes of the hidden layer's weight matrix $\\textbf{W}_h$ and bians vector $\\textbf{b}_h$?"
      ]
    },
    {
      "cell_type": "markdown",
      "metadata": {
        "id": "l3yXCDRx3cTT"
      },
      "source": [
        "Each hidden layer is connected to 10 neurons, where each column contains the 10 weights of a single neuron, so $\\textbf{W}_h$ is 10x50.\n",
        "\n",
        "Since we have 1 bias for each neuron, our vector $\\textbf{b}_h$ has size 50.\n"
      ]
    },
    {
      "cell_type": "markdown",
      "metadata": {
        "id": "rftCN0u73cTT"
      },
      "source": [
        "c) What are the shapes of the output layer's weight matrix $\\textbf{W}_0$ and bias vector $\\textbf{b}_0$?"
      ]
    },
    {
      "cell_type": "markdown",
      "metadata": {
        "id": "EJJpGok13cTT"
      },
      "source": [
        "Each output layer is connected to 50 neuros, so $\\textbf{W}_0$ has size 50x3. Since we have 3 neuros on the output layer, $\\textbf{b}_0$ has size 3."
      ]
    },
    {
      "cell_type": "markdown",
      "metadata": {
        "id": "-UQelcCM3cTT"
      },
      "source": [
        "d) What is the shape of the network's output matrix $\\textbf{Y}$?"
      ]
    },
    {
      "cell_type": "markdown",
      "metadata": {
        "id": "hvYPpfzQ3cTT"
      },
      "source": [
        "Again, suppposing we have m instances, then $\\textbf{Y}$ is mx3\n"
      ]
    },
    {
      "cell_type": "markdown",
      "metadata": {
        "id": "-oqoJSTk3cTT"
      },
      "source": [
        "e) Write the equation that computed the newtork's output matrix $\\textbf{Y}$ as a function of $\\textbf{X}$, $\\textbf{W}_h$, $\\textbf{b}_h$, $\\textbf{W}_0$ and $\\textbf{b}_0$"
      ]
    },
    {
      "cell_type": "markdown",
      "metadata": {
        "id": "S6oPCfvO3cTT"
      },
      "source": [
        "$Y = ReLU(ReLU(\\textbf{XW}_h + \\textbf{b}_h)\\textbf{W}_0+ \\textbf{b}_0)$"
      ]
    },
    {
      "cell_type": "markdown",
      "metadata": {
        "id": "Hi_-PaA13cTT"
      },
      "source": [
        "### 7) How many neurons do you need in the output layer if you want to classify email into spam or ham? What activation funciton shoud you use in the output layer? If instead you want to tackle MNIST, how many neuros do you need i the output layer, and which activation function should you use? What about for getting your network to predict housing prices, as in Chapter 2?"
      ]
    },
    {
      "cell_type": "markdown",
      "metadata": {
        "id": "uBoqcjHp3cTT"
      },
      "source": [
        "To classify an email into either spam or ham, you can use a single-neuron output layer with a sigmoid activation function. In the MNIST case, where your classification isn't binary, you would need 10 neurons, one for each possible output, with the softmax activation function. For housing prices prediction, where the output is continuous, you should use one neuron with a linear activation function."
      ]
    },
    {
      "cell_type": "markdown",
      "metadata": {
        "id": "KobxAR2y3cTT"
      },
      "source": [
        "### 8) What is backpropagation and how does it work? What is the difference between backpropagation and revese-mode autodiff?"
      ]
    },
    {
      "cell_type": "markdown",
      "metadata": {
        "id": "sRAeyQBl3cTT"
      },
      "source": [
        "Backpropagation is one way to train MLPs (and possibly other deep learning algorithms), that is, to find the weights that best fit the data to sample. It starts by computing the estimates with the weigths from previous iteration (or random weights in the first one). Then, for the output layer, it calculates the derivative of the loss function with respect to each previous neuron, and from each previous neuron to the ones immediately prior and so one until the first layer. Then, with the chain rule, it is able to calculate the derivative of the loss function with respect to each weight from prior neurons (i.e., calculate the gradient of the loss function), and update these weights in a gradient descent step. It repeats until convergence. Reverse-mode autodiff is a technique used in backpropagation to calculate the gradients."
      ]
    },
    {
      "cell_type": "markdown",
      "metadata": {
        "id": "5UbjtZ3I3cTT"
      },
      "source": [
        "### 9) Can you list all the hyperparameters you can tweak in a basic MLP? If the MLP overfits the training data, how could you tweak these hyperparameter to try to solve the problem?"
      ]
    },
    {
      "cell_type": "markdown",
      "metadata": {
        "id": "sFXdpvfe3cTT"
      },
      "source": [
        "Hyperparameters and tweaks to decrease overfiting:\n",
        "\n",
        "- Number of hidden layers: decrease\n",
        "\n",
        "- Number of neurons per hidden layer: decrease\n",
        "\n",
        "- Learning rate:\n",
        "\n",
        "- Optimizer method:\n",
        "\n",
        "- Activation Funtion:\n",
        "\n",
        "- Batch Size:\n",
        "\n",
        "- Number of iterations:"
      ]
    },
    {
      "cell_type": "markdown",
      "metadata": {
        "id": "mj1sOVbG3cTT"
      },
      "source": [
        "### 10) Train a deep MLP on the MNIST dataset (you can load it using tf.keras.datasets.mnist.load_data()). See if you can get over 98% accuracy by manually tuning the hyperparameters. Try searching for the optimal learning rate by using the approach presented in this chapter (i.e., by growing the learning rate exponentially, plotting the loss, and finding the point where the loss shoots up). Next, try tuning the hyperparameters using Keras Tuner with all the bells and whistles - save checkpoints, use early stopping, and plot learning curves using TensorBoard."
      ]
    },
    {
      "cell_type": "code",
      "execution_count": 1,
      "metadata": {
        "id": "LPGJC97x3cTU"
      },
      "outputs": [],
      "source": [
        "import tensorflow as tf"
      ]
    },
    {
      "cell_type": "code",
      "execution_count": 5,
      "metadata": {
        "id": "q7_v6M533cTU"
      },
      "outputs": [],
      "source": [
        "#Import data\n",
        "mnist = tf.keras.datasets.mnist.load_data()\n",
        "(X_train_full, y_train_full), (X_test, y_test) = mnist\n",
        "X_train, y_train = X_train_full[:-5000], y_train_full[:-5000]\n",
        "X_valid, y_valid = X_train_full[-5000:], y_train_full[-5000:]"
      ]
    },
    {
      "cell_type": "code",
      "execution_count": 15,
      "metadata": {
        "id": "xzFLfEVx3cTU",
        "outputId": "05dee0b6-091e-4e79-c497-0ad00514fcd4",
        "colab": {
          "base_uri": "https://localhost:8080/",
          "height": 289
        }
      },
      "outputs": [
        {
          "output_type": "display_data",
          "data": {
            "text/plain": [
              "\u001b[1mModel: \"functional_2\"\u001b[0m\n"
            ],
            "text/html": [
              "<pre style=\"white-space:pre;overflow-x:auto;line-height:normal;font-family:Menlo,'DejaVu Sans Mono',consolas,'Courier New',monospace\"><span style=\"font-weight: bold\">Model: \"functional_2\"</span>\n",
              "</pre>\n"
            ]
          },
          "metadata": {}
        },
        {
          "output_type": "display_data",
          "data": {
            "text/plain": [
              "┏━━━━━━━━━━━━━━━━━━━━━━━━━━━━━━━━━━━━━━┳━━━━━━━━━━━━━━━━━━━━━━━━━━━━━┳━━━━━━━━━━━━━━━━━┓\n",
              "┃\u001b[1m \u001b[0m\u001b[1mLayer (type)                        \u001b[0m\u001b[1m \u001b[0m┃\u001b[1m \u001b[0m\u001b[1mOutput Shape               \u001b[0m\u001b[1m \u001b[0m┃\u001b[1m \u001b[0m\u001b[1m        Param #\u001b[0m\u001b[1m \u001b[0m┃\n",
              "┡━━━━━━━━━━━━━━━━━━━━━━━━━━━━━━━━━━━━━━╇━━━━━━━━━━━━━━━━━━━━━━━━━━━━━╇━━━━━━━━━━━━━━━━━┩\n",
              "│ input_layer_2 (\u001b[38;5;33mInputLayer\u001b[0m)           │ (\u001b[38;5;45mNone\u001b[0m, \u001b[38;5;34m28\u001b[0m, \u001b[38;5;34m28\u001b[0m)              │               \u001b[38;5;34m0\u001b[0m │\n",
              "├──────────────────────────────────────┼─────────────────────────────┼─────────────────┤\n",
              "│ flatten_5 (\u001b[38;5;33mFlatten\u001b[0m)                  │ (\u001b[38;5;45mNone\u001b[0m, \u001b[38;5;34m784\u001b[0m)                 │               \u001b[38;5;34m0\u001b[0m │\n",
              "├──────────────────────────────────────┼─────────────────────────────┼─────────────────┤\n",
              "│ dense_7 (\u001b[38;5;33mDense\u001b[0m)                      │ (\u001b[38;5;45mNone\u001b[0m, \u001b[38;5;34m300\u001b[0m)                 │         \u001b[38;5;34m235,500\u001b[0m │\n",
              "├──────────────────────────────────────┼─────────────────────────────┼─────────────────┤\n",
              "│ dense_8 (\u001b[38;5;33mDense\u001b[0m)                      │ (\u001b[38;5;45mNone\u001b[0m, \u001b[38;5;34m300\u001b[0m)                 │          \u001b[38;5;34m90,300\u001b[0m │\n",
              "├──────────────────────────────────────┼─────────────────────────────┼─────────────────┤\n",
              "│ dense_9 (\u001b[38;5;33mDense\u001b[0m)                      │ (\u001b[38;5;45mNone\u001b[0m, \u001b[38;5;34m10\u001b[0m)                  │           \u001b[38;5;34m3,010\u001b[0m │\n",
              "└──────────────────────────────────────┴─────────────────────────────┴─────────────────┘\n"
            ],
            "text/html": [
              "<pre style=\"white-space:pre;overflow-x:auto;line-height:normal;font-family:Menlo,'DejaVu Sans Mono',consolas,'Courier New',monospace\">┏━━━━━━━━━━━━━━━━━━━━━━━━━━━━━━━━━━━━━━┳━━━━━━━━━━━━━━━━━━━━━━━━━━━━━┳━━━━━━━━━━━━━━━━━┓\n",
              "┃<span style=\"font-weight: bold\"> Layer (type)                         </span>┃<span style=\"font-weight: bold\"> Output Shape                </span>┃<span style=\"font-weight: bold\">         Param # </span>┃\n",
              "┡━━━━━━━━━━━━━━━━━━━━━━━━━━━━━━━━━━━━━━╇━━━━━━━━━━━━━━━━━━━━━━━━━━━━━╇━━━━━━━━━━━━━━━━━┩\n",
              "│ input_layer_2 (<span style=\"color: #0087ff; text-decoration-color: #0087ff\">InputLayer</span>)           │ (<span style=\"color: #00d7ff; text-decoration-color: #00d7ff\">None</span>, <span style=\"color: #00af00; text-decoration-color: #00af00\">28</span>, <span style=\"color: #00af00; text-decoration-color: #00af00\">28</span>)              │               <span style=\"color: #00af00; text-decoration-color: #00af00\">0</span> │\n",
              "├──────────────────────────────────────┼─────────────────────────────┼─────────────────┤\n",
              "│ flatten_5 (<span style=\"color: #0087ff; text-decoration-color: #0087ff\">Flatten</span>)                  │ (<span style=\"color: #00d7ff; text-decoration-color: #00d7ff\">None</span>, <span style=\"color: #00af00; text-decoration-color: #00af00\">784</span>)                 │               <span style=\"color: #00af00; text-decoration-color: #00af00\">0</span> │\n",
              "├──────────────────────────────────────┼─────────────────────────────┼─────────────────┤\n",
              "│ dense_7 (<span style=\"color: #0087ff; text-decoration-color: #0087ff\">Dense</span>)                      │ (<span style=\"color: #00d7ff; text-decoration-color: #00d7ff\">None</span>, <span style=\"color: #00af00; text-decoration-color: #00af00\">300</span>)                 │         <span style=\"color: #00af00; text-decoration-color: #00af00\">235,500</span> │\n",
              "├──────────────────────────────────────┼─────────────────────────────┼─────────────────┤\n",
              "│ dense_8 (<span style=\"color: #0087ff; text-decoration-color: #0087ff\">Dense</span>)                      │ (<span style=\"color: #00d7ff; text-decoration-color: #00d7ff\">None</span>, <span style=\"color: #00af00; text-decoration-color: #00af00\">300</span>)                 │          <span style=\"color: #00af00; text-decoration-color: #00af00\">90,300</span> │\n",
              "├──────────────────────────────────────┼─────────────────────────────┼─────────────────┤\n",
              "│ dense_9 (<span style=\"color: #0087ff; text-decoration-color: #0087ff\">Dense</span>)                      │ (<span style=\"color: #00d7ff; text-decoration-color: #00d7ff\">None</span>, <span style=\"color: #00af00; text-decoration-color: #00af00\">10</span>)                  │           <span style=\"color: #00af00; text-decoration-color: #00af00\">3,010</span> │\n",
              "└──────────────────────────────────────┴─────────────────────────────┴─────────────────┘\n",
              "</pre>\n"
            ]
          },
          "metadata": {}
        },
        {
          "output_type": "display_data",
          "data": {
            "text/plain": [
              "\u001b[1m Total params: \u001b[0m\u001b[38;5;34m328,810\u001b[0m (1.25 MB)\n"
            ],
            "text/html": [
              "<pre style=\"white-space:pre;overflow-x:auto;line-height:normal;font-family:Menlo,'DejaVu Sans Mono',consolas,'Courier New',monospace\"><span style=\"font-weight: bold\"> Total params: </span><span style=\"color: #00af00; text-decoration-color: #00af00\">328,810</span> (1.25 MB)\n",
              "</pre>\n"
            ]
          },
          "metadata": {}
        },
        {
          "output_type": "display_data",
          "data": {
            "text/plain": [
              "\u001b[1m Trainable params: \u001b[0m\u001b[38;5;34m328,810\u001b[0m (1.25 MB)\n"
            ],
            "text/html": [
              "<pre style=\"white-space:pre;overflow-x:auto;line-height:normal;font-family:Menlo,'DejaVu Sans Mono',consolas,'Courier New',monospace\"><span style=\"font-weight: bold\"> Trainable params: </span><span style=\"color: #00af00; text-decoration-color: #00af00\">328,810</span> (1.25 MB)\n",
              "</pre>\n"
            ]
          },
          "metadata": {}
        },
        {
          "output_type": "display_data",
          "data": {
            "text/plain": [
              "\u001b[1m Non-trainable params: \u001b[0m\u001b[38;5;34m0\u001b[0m (0.00 B)\n"
            ],
            "text/html": [
              "<pre style=\"white-space:pre;overflow-x:auto;line-height:normal;font-family:Menlo,'DejaVu Sans Mono',consolas,'Courier New',monospace\"><span style=\"font-weight: bold\"> Non-trainable params: </span><span style=\"color: #00af00; text-decoration-color: #00af00\">0</span> (0.00 B)\n",
              "</pre>\n"
            ]
          },
          "metadata": {}
        }
      ],
      "source": [
        "#Create and compile the model\n",
        "tf.random.set_seed(10)\n",
        "input_layer = tf.keras.layers.Input(shape = X_train.shape[1:])\n",
        "flat_layer = tf.keras.layers.Flatten()(input_layer)\n",
        "hidden1 = tf.keras.layers.Dense(300, activation = \"relu\")(flat_layer)\n",
        "hidden2 = tf.keras.layers.Dense(300, activation = \"relu\")(hidden1)\n",
        "output_layer = tf.keras.layers.Dense(10, activation = \"softmax\")(hidden2)\n",
        "model = tf.keras.Model(inputs = [input_layer], outputs = [output_layer])\n",
        "\n",
        "optimizer = tf.keras.optimizers.Adam(learning_rate = 1e-2)\n",
        "model.compile(loss = \"sparse_categorical_crossentropy\", optimizer = optimizer, metrics = [\"accuracy\"])\n",
        "\n",
        "model.summary()"
      ]
    },
    {
      "cell_type": "code",
      "execution_count": 16,
      "metadata": {
        "id": "dzWZhsoZ3cTU",
        "outputId": "1751ec27-6e29-4047-f5e3-70a7736b7472",
        "colab": {
          "base_uri": "https://localhost:8080/"
        }
      },
      "outputs": [
        {
          "output_type": "stream",
          "name": "stdout",
          "text": [
            "Epoch 1/30\n",
            "\u001b[1m1719/1719\u001b[0m \u001b[32m━━━━━━━━━━━━━━━━━━━━\u001b[0m\u001b[37m\u001b[0m \u001b[1m8s\u001b[0m 3ms/step - accuracy: 0.4567 - loss: 14.9087 - val_accuracy: 0.5332 - val_loss: 1.1865\n",
            "Epoch 2/30\n",
            "\u001b[1m1719/1719\u001b[0m \u001b[32m━━━━━━━━━━━━━━━━━━━━\u001b[0m\u001b[37m\u001b[0m \u001b[1m3s\u001b[0m 2ms/step - accuracy: 0.4720 - loss: 1.4342 - val_accuracy: 0.2850 - val_loss: 1.9137\n",
            "Epoch 3/30\n",
            "\u001b[1m1719/1719\u001b[0m \u001b[32m━━━━━━━━━━━━━━━━━━━━\u001b[0m\u001b[37m\u001b[0m \u001b[1m6s\u001b[0m 2ms/step - accuracy: 0.2919 - loss: 1.8562 - val_accuracy: 0.3092 - val_loss: 1.7559\n",
            "Epoch 4/30\n",
            "\u001b[1m1719/1719\u001b[0m \u001b[32m━━━━━━━━━━━━━━━━━━━━\u001b[0m\u001b[37m\u001b[0m \u001b[1m4s\u001b[0m 2ms/step - accuracy: 0.2994 - loss: 1.7039 - val_accuracy: 0.3050 - val_loss: 1.6162\n",
            "Epoch 5/30\n",
            "\u001b[1m1719/1719\u001b[0m \u001b[32m━━━━━━━━━━━━━━━━━━━━\u001b[0m\u001b[37m\u001b[0m \u001b[1m5s\u001b[0m 2ms/step - accuracy: 0.2987 - loss: 1.6928 - val_accuracy: 0.3080 - val_loss: 1.6595\n",
            "Epoch 6/30\n",
            "\u001b[1m1719/1719\u001b[0m \u001b[32m━━━━━━━━━━━━━━━━━━━━\u001b[0m\u001b[37m\u001b[0m \u001b[1m5s\u001b[0m 2ms/step - accuracy: 0.3006 - loss: 1.6442 - val_accuracy: 0.3070 - val_loss: 1.6112\n",
            "Epoch 7/30\n",
            "\u001b[1m1719/1719\u001b[0m \u001b[32m━━━━━━━━━━━━━━━━━━━━\u001b[0m\u001b[37m\u001b[0m \u001b[1m3s\u001b[0m 2ms/step - accuracy: 0.2939 - loss: 1.6673 - val_accuracy: 0.2556 - val_loss: 1.8036\n",
            "Epoch 8/30\n",
            "\u001b[1m1719/1719\u001b[0m \u001b[32m━━━━━━━━━━━━━━━━━━━━\u001b[0m\u001b[37m\u001b[0m \u001b[1m3s\u001b[0m 2ms/step - accuracy: 0.2687 - loss: 1.7590 - val_accuracy: 0.2940 - val_loss: 1.6242\n",
            "Epoch 9/30\n",
            "\u001b[1m1719/1719\u001b[0m \u001b[32m━━━━━━━━━━━━━━━━━━━━\u001b[0m\u001b[37m\u001b[0m \u001b[1m4s\u001b[0m 2ms/step - accuracy: 0.2938 - loss: 1.6589 - val_accuracy: 0.3048 - val_loss: 1.5959\n",
            "Epoch 10/30\n",
            "\u001b[1m1719/1719\u001b[0m \u001b[32m━━━━━━━━━━━━━━━━━━━━\u001b[0m\u001b[37m\u001b[0m \u001b[1m4s\u001b[0m 2ms/step - accuracy: 0.2957 - loss: 1.6329 - val_accuracy: 0.3128 - val_loss: 1.6190\n",
            "Epoch 11/30\n",
            "\u001b[1m1719/1719\u001b[0m \u001b[32m━━━━━━━━━━━━━━━━━━━━\u001b[0m\u001b[37m\u001b[0m \u001b[1m5s\u001b[0m 2ms/step - accuracy: 0.2108 - loss: 1.9037 - val_accuracy: 0.2000 - val_loss: 1.8157\n",
            "Epoch 12/30\n",
            "\u001b[1m1719/1719\u001b[0m \u001b[32m━━━━━━━━━━━━━━━━━━━━\u001b[0m\u001b[37m\u001b[0m \u001b[1m4s\u001b[0m 2ms/step - accuracy: 0.1981 - loss: 1.8808 - val_accuracy: 0.2076 - val_loss: 1.8192\n",
            "Epoch 13/30\n",
            "\u001b[1m1719/1719\u001b[0m \u001b[32m━━━━━━━━━━━━━━━━━━━━\u001b[0m\u001b[37m\u001b[0m \u001b[1m3s\u001b[0m 2ms/step - accuracy: 0.1988 - loss: 1.8605 - val_accuracy: 0.2018 - val_loss: 1.8304\n",
            "Epoch 14/30\n",
            "\u001b[1m1719/1719\u001b[0m \u001b[32m━━━━━━━━━━━━━━━━━━━━\u001b[0m\u001b[37m\u001b[0m \u001b[1m3s\u001b[0m 2ms/step - accuracy: 0.2056 - loss: 1.8368 - val_accuracy: 0.2014 - val_loss: 1.8590\n",
            "Epoch 15/30\n",
            "\u001b[1m1719/1719\u001b[0m \u001b[32m━━━━━━━━━━━━━━━━━━━━\u001b[0m\u001b[37m\u001b[0m \u001b[1m3s\u001b[0m 2ms/step - accuracy: 0.2045 - loss: 1.8888 - val_accuracy: 0.2026 - val_loss: 1.8454\n",
            "Epoch 16/30\n",
            "\u001b[1m1719/1719\u001b[0m \u001b[32m━━━━━━━━━━━━━━━━━━━━\u001b[0m\u001b[37m\u001b[0m \u001b[1m4s\u001b[0m 2ms/step - accuracy: 0.2076 - loss: 1.8893 - val_accuracy: 0.2030 - val_loss: 1.8508\n",
            "Epoch 17/30\n",
            "\u001b[1m1719/1719\u001b[0m \u001b[32m━━━━━━━━━━━━━━━━━━━━\u001b[0m\u001b[37m\u001b[0m \u001b[1m4s\u001b[0m 2ms/step - accuracy: 0.2071 - loss: 1.8776 - val_accuracy: 0.2030 - val_loss: 1.8510\n",
            "Epoch 18/30\n",
            "\u001b[1m1719/1719\u001b[0m \u001b[32m━━━━━━━━━━━━━━━━━━━━\u001b[0m\u001b[37m\u001b[0m \u001b[1m5s\u001b[0m 2ms/step - accuracy: 0.2064 - loss: 1.8774 - val_accuracy: 0.2030 - val_loss: 1.8512\n",
            "Epoch 19/30\n",
            "\u001b[1m1719/1719\u001b[0m \u001b[32m━━━━━━━━━━━━━━━━━━━━\u001b[0m\u001b[37m\u001b[0m \u001b[1m3s\u001b[0m 2ms/step - accuracy: 0.2067 - loss: 1.8773 - val_accuracy: 0.2030 - val_loss: 1.8509\n",
            "Epoch 20/30\n",
            "\u001b[1m1719/1719\u001b[0m \u001b[32m━━━━━━━━━━━━━━━━━━━━\u001b[0m\u001b[37m\u001b[0m \u001b[1m3s\u001b[0m 2ms/step - accuracy: 0.2066 - loss: 1.8772 - val_accuracy: 0.2030 - val_loss: 1.8509\n",
            "Epoch 21/30\n",
            "\u001b[1m1719/1719\u001b[0m \u001b[32m━━━━━━━━━━━━━━━━━━━━\u001b[0m\u001b[37m\u001b[0m \u001b[1m5s\u001b[0m 2ms/step - accuracy: 0.2066 - loss: 1.8772 - val_accuracy: 0.2030 - val_loss: 1.8508\n",
            "Epoch 22/30\n",
            "\u001b[1m1719/1719\u001b[0m \u001b[32m━━━━━━━━━━━━━━━━━━━━\u001b[0m\u001b[37m\u001b[0m \u001b[1m4s\u001b[0m 2ms/step - accuracy: 0.2064 - loss: 1.8771 - val_accuracy: 0.2030 - val_loss: 1.8508\n",
            "Epoch 23/30\n",
            "\u001b[1m1719/1719\u001b[0m \u001b[32m━━━━━━━━━━━━━━━━━━━━\u001b[0m\u001b[37m\u001b[0m \u001b[1m3s\u001b[0m 2ms/step - accuracy: 0.2065 - loss: 1.8771 - val_accuracy: 0.2030 - val_loss: 1.8508\n",
            "Epoch 24/30\n",
            "\u001b[1m1719/1719\u001b[0m \u001b[32m━━━━━━━━━━━━━━━━━━━━\u001b[0m\u001b[37m\u001b[0m \u001b[1m3s\u001b[0m 2ms/step - accuracy: 0.2066 - loss: 1.8771 - val_accuracy: 0.2030 - val_loss: 1.8508\n",
            "Epoch 25/30\n",
            "\u001b[1m1719/1719\u001b[0m \u001b[32m━━━━━━━━━━━━━━━━━━━━\u001b[0m\u001b[37m\u001b[0m \u001b[1m3s\u001b[0m 2ms/step - accuracy: 0.2064 - loss: 1.8771 - val_accuracy: 0.2030 - val_loss: 1.8508\n",
            "Epoch 26/30\n",
            "\u001b[1m1719/1719\u001b[0m \u001b[32m━━━━━━━━━━━━━━━━━━━━\u001b[0m\u001b[37m\u001b[0m \u001b[1m5s\u001b[0m 2ms/step - accuracy: 0.2062 - loss: 1.8771 - val_accuracy: 0.2030 - val_loss: 1.8507\n",
            "Epoch 27/30\n",
            "\u001b[1m1719/1719\u001b[0m \u001b[32m━━━━━━━━━━━━━━━━━━━━\u001b[0m\u001b[37m\u001b[0m \u001b[1m5s\u001b[0m 2ms/step - accuracy: 0.2063 - loss: 1.8771 - val_accuracy: 0.2030 - val_loss: 1.8507\n",
            "Epoch 28/30\n",
            "\u001b[1m1719/1719\u001b[0m \u001b[32m━━━━━━━━━━━━━━━━━━━━\u001b[0m\u001b[37m\u001b[0m \u001b[1m4s\u001b[0m 2ms/step - accuracy: 0.2063 - loss: 1.8770 - val_accuracy: 0.2030 - val_loss: 1.8507\n",
            "Epoch 29/30\n",
            "\u001b[1m1719/1719\u001b[0m \u001b[32m━━━━━━━━━━━━━━━━━━━━\u001b[0m\u001b[37m\u001b[0m \u001b[1m3s\u001b[0m 2ms/step - accuracy: 0.2063 - loss: 1.8770 - val_accuracy: 0.2030 - val_loss: 1.8507\n",
            "Epoch 30/30\n",
            "\u001b[1m1719/1719\u001b[0m \u001b[32m━━━━━━━━━━━━━━━━━━━━\u001b[0m\u001b[37m\u001b[0m \u001b[1m5s\u001b[0m 2ms/step - accuracy: 0.2061 - loss: 1.8770 - val_accuracy: 0.2030 - val_loss: 1.8507\n"
          ]
        }
      ],
      "source": [
        "#Train\n",
        "history = model.fit(X_train, y_train, epochs = 30, validation_data = (X_valid, y_valid))"
      ]
    },
    {
      "cell_type": "code",
      "execution_count": null,
      "metadata": {
        "id": "aEir1lQV3cTU"
      },
      "outputs": [],
      "source": []
    },
    {
      "cell_type": "code",
      "execution_count": null,
      "metadata": {
        "id": "ZfBAxzyD3cTU"
      },
      "outputs": [],
      "source": []
    }
  ],
  "metadata": {
    "language_info": {
      "name": "python"
    },
    "colab": {
      "provenance": [],
      "gpuType": "T4"
    },
    "kernelspec": {
      "name": "python3",
      "display_name": "Python 3"
    },
    "accelerator": "GPU"
  },
  "nbformat": 4,
  "nbformat_minor": 0
}