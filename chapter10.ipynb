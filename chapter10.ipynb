{
  "cells": [
    {
      "cell_type": "markdown",
      "metadata": {
        "id": "EPw_8-Sl3cTQ"
      },
      "source": [
        "### 1) This question is about using a webtool, without the need for any written answers."
      ]
    },
    {
      "cell_type": "markdown",
      "metadata": {
        "id": "vXuWVxEv3cTQ"
      },
      "source": [
        "### 2) Draw an ANN using the original artificial neurons (like the ones in Figure 10-3) that computes A ⊕ B = (A ∧ ¬B) ∨ (¬ A V B)."
      ]
    },
    {
      "cell_type": "markdown",
      "metadata": {
        "id": "7JQdnMvt3cTR"
      },
      "source": [
        "Done on paper"
      ]
    },
    {
      "cell_type": "markdown",
      "metadata": {
        "id": "zw138upk3cTR"
      },
      "source": [
        "### 3) Why is it generally prefrable to use a logistic regression classifier rather than a classic perceptron (i.e., a single layer of threshold logic units trained using the perceptron training algorithm)? How can you tweak a perceptron to make it equivalent to a logistic regression classifier?"
      ]
    },
    {
      "cell_type": "markdown",
      "metadata": {
        "id": "YCuct2p53cTR"
      },
      "source": [
        "Because a common perceptron supposes linearly separable datasets. That is, if the decision boundary is not linear, than a classic perceptron won't be able to correctlt classify instances, whereas a logistic regression could potentially do. If you change the output activation function to a sigmoid, and train it with gradient descent or other equivalent method, than it will converge to the same result as in a usual logistic regression, with class probabilities."
      ]
    },
    {
      "cell_type": "markdown",
      "metadata": {
        "id": "QKslu8iQ3cTR"
      },
      "source": [
        "### 4) Why was the sigmoid activation function a key ingredient in training the first MLPs?"
      ]
    },
    {
      "cell_type": "markdown",
      "metadata": {
        "id": "w29nHAWG3cTS"
      },
      "source": [
        "Because the sigmoid's derivative is always non-zero, gradient descent methods will keep iterating and converging to global minimum, whereas other activation functions, like step functions, where the derivative is always equal to zero, it cannot converge to global minimum"
      ]
    },
    {
      "cell_type": "markdown",
      "metadata": {
        "id": "ClVoey9M3cTS"
      },
      "source": [
        "### 5) Name three popular activation functions. Can you draw them?"
      ]
    },
    {
      "cell_type": "markdown",
      "metadata": {
        "id": "LuiU2fJK3cTS"
      },
      "source": [
        "Relu is 0 for values lower than 0 45 degrees linear for values higher than 0 (y = 0 if x <= 0; y = x if x >0).\n",
        "\n",
        "Sigmoid is a S-shaped curve that takes values from -infinity to +infinity and maps then to (0,1)\n",
        "\n",
        "Linear activation functions make a linear transformation on the inputs, mapping then to a single output."
      ]
    },
    {
      "cell_type": "markdown",
      "metadata": {
        "id": "wEP8KJwT3cTS"
      },
      "source": [
        "### 6) Suppose you have an MLP composed of one input layer with 10 passthough neurons, followed by one hidden layer with 50 artificial neurons, and finally one output layer with 3 artificial neurons. All artificial neurons use the ReLU activation function."
      ]
    },
    {
      "cell_type": "markdown",
      "metadata": {
        "id": "FV4Xo5FH3cTS"
      },
      "source": [
        "a) What is the shape of the input matrix $\\textbf{X}$?"
      ]
    },
    {
      "cell_type": "markdown",
      "metadata": {
        "id": "BmHR06jF3cTS"
      },
      "source": [
        "Suppose you have m instances. Then $\\textbf{X}$ is mx10."
      ]
    },
    {
      "cell_type": "markdown",
      "metadata": {
        "id": "JBpR2IjZ3cTT"
      },
      "source": [
        "b) What are the shapes of the hidden layer's weight matrix $\\textbf{W}_h$ and bians vector $\\textbf{b}_h$?"
      ]
    },
    {
      "cell_type": "markdown",
      "metadata": {
        "id": "l3yXCDRx3cTT"
      },
      "source": [
        "Each hidden layer is connected to 10 neurons, where each column contains the 10 weights of a single neuron, so $\\textbf{W}_h$ is 10x50.\n",
        "\n",
        "Since we have 1 bias for each neuron, our vector $\\textbf{b}_h$ has size 50.\n"
      ]
    },
    {
      "cell_type": "markdown",
      "metadata": {
        "id": "rftCN0u73cTT"
      },
      "source": [
        "c) What are the shapes of the output layer's weight matrix $\\textbf{W}_0$ and bias vector $\\textbf{b}_0$?"
      ]
    },
    {
      "cell_type": "markdown",
      "metadata": {
        "id": "EJJpGok13cTT"
      },
      "source": [
        "Each output layer is connected to 50 neuros, so $\\textbf{W}_0$ has size 50x3. Since we have 3 neuros on the output layer, $\\textbf{b}_0$ has size 3."
      ]
    },
    {
      "cell_type": "markdown",
      "metadata": {
        "id": "-UQelcCM3cTT"
      },
      "source": [
        "d) What is the shape of the network's output matrix $\\textbf{Y}$?"
      ]
    },
    {
      "cell_type": "markdown",
      "metadata": {
        "id": "hvYPpfzQ3cTT"
      },
      "source": [
        "Again, suppposing we have m instances, then $\\textbf{Y}$ is mx3\n"
      ]
    },
    {
      "cell_type": "markdown",
      "metadata": {
        "id": "-oqoJSTk3cTT"
      },
      "source": [
        "e) Write the equation that computed the newtork's output matrix $\\textbf{Y}$ as a function of $\\textbf{X}$, $\\textbf{W}_h$, $\\textbf{b}_h$, $\\textbf{W}_0$ and $\\textbf{b}_0$"
      ]
    },
    {
      "cell_type": "markdown",
      "metadata": {
        "id": "S6oPCfvO3cTT"
      },
      "source": [
        "$Y = ReLU(ReLU(\\textbf{XW}_h + \\textbf{b}_h)\\textbf{W}_0+ \\textbf{b}_0)$"
      ]
    },
    {
      "cell_type": "markdown",
      "metadata": {
        "id": "Hi_-PaA13cTT"
      },
      "source": [
        "### 7) How many neurons do you need in the output layer if you want to classify email into spam or ham? What activation funciton shoud you use in the output layer? If instead you want to tackle MNIST, how many neuros do you need i the output layer, and which activation function should you use? What about for getting your network to predict housing prices, as in Chapter 2?"
      ]
    },
    {
      "cell_type": "markdown",
      "metadata": {
        "id": "uBoqcjHp3cTT"
      },
      "source": [
        "To classify an email into either spam or ham, you can use a single-neuron output layer with a sigmoid activation function. In the MNIST case, where your classification isn't binary, you would need 10 neurons, one for each possible output, with the softmax activation function. For housing prices prediction, where the output is continuous, you should use one neuron with a linear activation function."
      ]
    },
    {
      "cell_type": "markdown",
      "metadata": {
        "id": "KobxAR2y3cTT"
      },
      "source": [
        "### 8) What is backpropagation and how does it work? What is the difference between backpropagation and revese-mode autodiff?"
      ]
    },
    {
      "cell_type": "markdown",
      "metadata": {
        "id": "sRAeyQBl3cTT"
      },
      "source": [
        "Backpropagation is one way to train MLPs (and possibly other deep learning algorithms), that is, to find the weights that best fit the data to sample. It starts by computing the estimates with the weigths from previous iteration (or random weights in the first one). Then, for the output layer, it calculates the derivative of the loss function with respect to each previous neuron, and from each previous neuron to the ones immediately prior and so one until the first layer. Then, with the chain rule, it is able to calculate the derivative of the loss function with respect to each weight from prior neurons (i.e., calculate the gradient of the loss function), and update these weights in a gradient descent step. It repeats until convergence. Reverse-mode autodiff is a technique used in backpropagation to calculate the gradients."
      ]
    },
    {
      "cell_type": "markdown",
      "metadata": {
        "id": "5UbjtZ3I3cTT"
      },
      "source": [
        "### 9) Can you list all the hyperparameters you can tweak in a basic MLP? If the MLP overfits the training data, how could you tweak these hyperparameter to try to solve the problem?"
      ]
    },
    {
      "cell_type": "markdown",
      "metadata": {
        "id": "sFXdpvfe3cTT"
      },
      "source": [
        "Hyperparameters and tweaks to decrease overfiting:\n",
        "\n",
        "- Number of hidden layers: decrease\n",
        "\n",
        "- Number of neurons per hidden layer: decrease\n",
        "\n",
        "- Learning rate:\n",
        "\n",
        "- Optimizer method:\n",
        "\n",
        "- Activation Funtion:\n",
        "\n",
        "- Batch Size:\n",
        "\n",
        "- Number of iterations:"
      ]
    },
    {
      "cell_type": "markdown",
      "metadata": {
        "id": "mj1sOVbG3cTT"
      },
      "source": [
        "### 10) Train a deep MLP on the MNIST dataset (you can load it using tf.keras.datasets.mnist.load_data()). See if you can get over 98% accuracy by manually tuning the hyperparameters. Try searching for the optimal learning rate by using the approach presented in this chapter (i.e., by growing the learning rate exponentially, plotting the loss, and finding the point where the loss shoots up). Next, try tuning the hyperparameters using Keras Tuner with all the bells and whistles - save checkpoints, use early stopping, and plot learning curves using TensorBoard."
      ]
    },
    {
      "cell_type": "code",
      "execution_count": 2,
      "metadata": {
        "id": "LPGJC97x3cTU"
      },
      "outputs": [],
      "source": [
        "import tensorflow as tf"
      ]
    },
    {
      "cell_type": "code",
      "execution_count": 3,
      "metadata": {
        "id": "q7_v6M533cTU",
        "outputId": "af51213a-6362-463e-8645-d368ec6617f2",
        "colab": {
          "base_uri": "https://localhost:8080/"
        }
      },
      "outputs": [
        {
          "output_type": "stream",
          "name": "stdout",
          "text": [
            "Downloading data from https://storage.googleapis.com/tensorflow/tf-keras-datasets/mnist.npz\n",
            "\u001b[1m11490434/11490434\u001b[0m \u001b[32m━━━━━━━━━━━━━━━━━━━━\u001b[0m\u001b[37m\u001b[0m \u001b[1m1s\u001b[0m 0us/step\n"
          ]
        }
      ],
      "source": [
        "#Import data\n",
        "mnist = tf.keras.datasets.mnist.load_data()\n",
        "(X_train_full, y_train_full), (X_test, y_test) = mnist\n",
        "X_train, y_train = X_train_full[:-5000], y_train_full[:-5000]\n",
        "X_valid, y_valid = X_train_full[-5000:], y_train_full[-5000:]"
      ]
    },
    {
      "cell_type": "code",
      "execution_count": 36,
      "metadata": {
        "colab": {
          "base_uri": "https://localhost:8080/",
          "height": 353
        },
        "id": "xzFLfEVx3cTU",
        "outputId": "034c8563-1efa-4b63-a978-751f294ee414"
      },
      "outputs": [
        {
          "output_type": "display_data",
          "data": {
            "text/plain": [
              "\u001b[1mModel: \"functional_10\"\u001b[0m\n"
            ],
            "text/html": [
              "<pre style=\"white-space:pre;overflow-x:auto;line-height:normal;font-family:Menlo,'DejaVu Sans Mono',consolas,'Courier New',monospace\"><span style=\"font-weight: bold\">Model: \"functional_10\"</span>\n",
              "</pre>\n"
            ]
          },
          "metadata": {}
        },
        {
          "output_type": "display_data",
          "data": {
            "text/plain": [
              "┏━━━━━━━━━━━━━━━━━━━━━━━━━━━━━━━━━━━━━━┳━━━━━━━━━━━━━━━━━━━━━━━━━━━━━┳━━━━━━━━━━━━━━━━━┓\n",
              "┃\u001b[1m \u001b[0m\u001b[1mLayer (type)                        \u001b[0m\u001b[1m \u001b[0m┃\u001b[1m \u001b[0m\u001b[1mOutput Shape               \u001b[0m\u001b[1m \u001b[0m┃\u001b[1m \u001b[0m\u001b[1m        Param #\u001b[0m\u001b[1m \u001b[0m┃\n",
              "┡━━━━━━━━━━━━━━━━━━━━━━━━━━━━━━━━━━━━━━╇━━━━━━━━━━━━━━━━━━━━━━━━━━━━━╇━━━━━━━━━━━━━━━━━┩\n",
              "│ input_layer_10 (\u001b[38;5;33mInputLayer\u001b[0m)          │ (\u001b[38;5;45mNone\u001b[0m, \u001b[38;5;34m28\u001b[0m, \u001b[38;5;34m28\u001b[0m)              │               \u001b[38;5;34m0\u001b[0m │\n",
              "├──────────────────────────────────────┼─────────────────────────────┼─────────────────┤\n",
              "│ flatten_10 (\u001b[38;5;33mFlatten\u001b[0m)                 │ (\u001b[38;5;45mNone\u001b[0m, \u001b[38;5;34m784\u001b[0m)                 │               \u001b[38;5;34m0\u001b[0m │\n",
              "├──────────────────────────────────────┼─────────────────────────────┼─────────────────┤\n",
              "│ dense_37 (\u001b[38;5;33mDense\u001b[0m)                     │ (\u001b[38;5;45mNone\u001b[0m, \u001b[38;5;34m300\u001b[0m)                 │         \u001b[38;5;34m235,500\u001b[0m │\n",
              "├──────────────────────────────────────┼─────────────────────────────┼─────────────────┤\n",
              "│ dense_38 (\u001b[38;5;33mDense\u001b[0m)                     │ (\u001b[38;5;45mNone\u001b[0m, \u001b[38;5;34m300\u001b[0m)                 │          \u001b[38;5;34m90,300\u001b[0m │\n",
              "├──────────────────────────────────────┼─────────────────────────────┼─────────────────┤\n",
              "│ dense_39 (\u001b[38;5;33mDense\u001b[0m)                     │ (\u001b[38;5;45mNone\u001b[0m, \u001b[38;5;34m300\u001b[0m)                 │          \u001b[38;5;34m90,300\u001b[0m │\n",
              "├──────────────────────────────────────┼─────────────────────────────┼─────────────────┤\n",
              "│ dense_40 (\u001b[38;5;33mDense\u001b[0m)                     │ (\u001b[38;5;45mNone\u001b[0m, \u001b[38;5;34m300\u001b[0m)                 │          \u001b[38;5;34m90,300\u001b[0m │\n",
              "├──────────────────────────────────────┼─────────────────────────────┼─────────────────┤\n",
              "│ dense_41 (\u001b[38;5;33mDense\u001b[0m)                     │ (\u001b[38;5;45mNone\u001b[0m, \u001b[38;5;34m10\u001b[0m)                  │           \u001b[38;5;34m3,010\u001b[0m │\n",
              "└──────────────────────────────────────┴─────────────────────────────┴─────────────────┘\n"
            ],
            "text/html": [
              "<pre style=\"white-space:pre;overflow-x:auto;line-height:normal;font-family:Menlo,'DejaVu Sans Mono',consolas,'Courier New',monospace\">┏━━━━━━━━━━━━━━━━━━━━━━━━━━━━━━━━━━━━━━┳━━━━━━━━━━━━━━━━━━━━━━━━━━━━━┳━━━━━━━━━━━━━━━━━┓\n",
              "┃<span style=\"font-weight: bold\"> Layer (type)                         </span>┃<span style=\"font-weight: bold\"> Output Shape                </span>┃<span style=\"font-weight: bold\">         Param # </span>┃\n",
              "┡━━━━━━━━━━━━━━━━━━━━━━━━━━━━━━━━━━━━━━╇━━━━━━━━━━━━━━━━━━━━━━━━━━━━━╇━━━━━━━━━━━━━━━━━┩\n",
              "│ input_layer_10 (<span style=\"color: #0087ff; text-decoration-color: #0087ff\">InputLayer</span>)          │ (<span style=\"color: #00d7ff; text-decoration-color: #00d7ff\">None</span>, <span style=\"color: #00af00; text-decoration-color: #00af00\">28</span>, <span style=\"color: #00af00; text-decoration-color: #00af00\">28</span>)              │               <span style=\"color: #00af00; text-decoration-color: #00af00\">0</span> │\n",
              "├──────────────────────────────────────┼─────────────────────────────┼─────────────────┤\n",
              "│ flatten_10 (<span style=\"color: #0087ff; text-decoration-color: #0087ff\">Flatten</span>)                 │ (<span style=\"color: #00d7ff; text-decoration-color: #00d7ff\">None</span>, <span style=\"color: #00af00; text-decoration-color: #00af00\">784</span>)                 │               <span style=\"color: #00af00; text-decoration-color: #00af00\">0</span> │\n",
              "├──────────────────────────────────────┼─────────────────────────────┼─────────────────┤\n",
              "│ dense_37 (<span style=\"color: #0087ff; text-decoration-color: #0087ff\">Dense</span>)                     │ (<span style=\"color: #00d7ff; text-decoration-color: #00d7ff\">None</span>, <span style=\"color: #00af00; text-decoration-color: #00af00\">300</span>)                 │         <span style=\"color: #00af00; text-decoration-color: #00af00\">235,500</span> │\n",
              "├──────────────────────────────────────┼─────────────────────────────┼─────────────────┤\n",
              "│ dense_38 (<span style=\"color: #0087ff; text-decoration-color: #0087ff\">Dense</span>)                     │ (<span style=\"color: #00d7ff; text-decoration-color: #00d7ff\">None</span>, <span style=\"color: #00af00; text-decoration-color: #00af00\">300</span>)                 │          <span style=\"color: #00af00; text-decoration-color: #00af00\">90,300</span> │\n",
              "├──────────────────────────────────────┼─────────────────────────────┼─────────────────┤\n",
              "│ dense_39 (<span style=\"color: #0087ff; text-decoration-color: #0087ff\">Dense</span>)                     │ (<span style=\"color: #00d7ff; text-decoration-color: #00d7ff\">None</span>, <span style=\"color: #00af00; text-decoration-color: #00af00\">300</span>)                 │          <span style=\"color: #00af00; text-decoration-color: #00af00\">90,300</span> │\n",
              "├──────────────────────────────────────┼─────────────────────────────┼─────────────────┤\n",
              "│ dense_40 (<span style=\"color: #0087ff; text-decoration-color: #0087ff\">Dense</span>)                     │ (<span style=\"color: #00d7ff; text-decoration-color: #00d7ff\">None</span>, <span style=\"color: #00af00; text-decoration-color: #00af00\">300</span>)                 │          <span style=\"color: #00af00; text-decoration-color: #00af00\">90,300</span> │\n",
              "├──────────────────────────────────────┼─────────────────────────────┼─────────────────┤\n",
              "│ dense_41 (<span style=\"color: #0087ff; text-decoration-color: #0087ff\">Dense</span>)                     │ (<span style=\"color: #00d7ff; text-decoration-color: #00d7ff\">None</span>, <span style=\"color: #00af00; text-decoration-color: #00af00\">10</span>)                  │           <span style=\"color: #00af00; text-decoration-color: #00af00\">3,010</span> │\n",
              "└──────────────────────────────────────┴─────────────────────────────┴─────────────────┘\n",
              "</pre>\n"
            ]
          },
          "metadata": {}
        },
        {
          "output_type": "display_data",
          "data": {
            "text/plain": [
              "\u001b[1m Total params: \u001b[0m\u001b[38;5;34m509,410\u001b[0m (1.94 MB)\n"
            ],
            "text/html": [
              "<pre style=\"white-space:pre;overflow-x:auto;line-height:normal;font-family:Menlo,'DejaVu Sans Mono',consolas,'Courier New',monospace\"><span style=\"font-weight: bold\"> Total params: </span><span style=\"color: #00af00; text-decoration-color: #00af00\">509,410</span> (1.94 MB)\n",
              "</pre>\n"
            ]
          },
          "metadata": {}
        },
        {
          "output_type": "display_data",
          "data": {
            "text/plain": [
              "\u001b[1m Trainable params: \u001b[0m\u001b[38;5;34m509,410\u001b[0m (1.94 MB)\n"
            ],
            "text/html": [
              "<pre style=\"white-space:pre;overflow-x:auto;line-height:normal;font-family:Menlo,'DejaVu Sans Mono',consolas,'Courier New',monospace\"><span style=\"font-weight: bold\"> Trainable params: </span><span style=\"color: #00af00; text-decoration-color: #00af00\">509,410</span> (1.94 MB)\n",
              "</pre>\n"
            ]
          },
          "metadata": {}
        },
        {
          "output_type": "display_data",
          "data": {
            "text/plain": [
              "\u001b[1m Non-trainable params: \u001b[0m\u001b[38;5;34m0\u001b[0m (0.00 B)\n"
            ],
            "text/html": [
              "<pre style=\"white-space:pre;overflow-x:auto;line-height:normal;font-family:Menlo,'DejaVu Sans Mono',consolas,'Courier New',monospace\"><span style=\"font-weight: bold\"> Non-trainable params: </span><span style=\"color: #00af00; text-decoration-color: #00af00\">0</span> (0.00 B)\n",
              "</pre>\n"
            ]
          },
          "metadata": {}
        }
      ],
      "source": [
        "#Create and compile the model\n",
        "tf.random.set_seed(10)\n",
        "input_layer = tf.keras.layers.Input(shape = X_train.shape[1:])\n",
        "flat_layer = tf.keras.layers.Flatten()(input_layer)\n",
        "hidden1 = tf.keras.layers.Dense(300, activation = \"relu\")(flat_layer)\n",
        "hidden2 = tf.keras.layers.Dense(300, activation = \"relu\")(hidden1)\n",
        "hidden3 = tf.keras.layers.Dense(300, activation = \"relu\")(hidden2)\n",
        "hidden4 = tf.keras.layers.Dense(300, activation = \"relu\")(hidden3)\n",
        "output_layer = tf.keras.layers.Dense(10, activation = \"softmax\")(hidden4)\n",
        "model = tf.keras.Model(inputs = [input_layer], outputs = [output_layer])\n",
        "\n",
        "optimizer = tf.keras.optimizers.Adam(learning_rate = 5e-4)\n",
        "model.compile(loss = \"sparse_categorical_crossentropy\", optimizer = optimizer,\n",
        "              metrics = [\"accuracy\"])\n",
        "\n",
        "model.summary()\n",
        "\n",
        "#Callbacks\n",
        "early_stopping_cb = tf.keras.callbacks.EarlyStopping(patience = 10,\n",
        "                                                     restore_best_weights = True)"
      ]
    },
    {
      "cell_type": "code",
      "execution_count": 37,
      "metadata": {
        "colab": {
          "base_uri": "https://localhost:8080/"
        },
        "id": "dzWZhsoZ3cTU",
        "outputId": "b62ded35-8d87-4039-a8d0-0b5d06826c2c"
      },
      "outputs": [
        {
          "output_type": "stream",
          "name": "stdout",
          "text": [
            "Epoch 1/50\n",
            "\u001b[1m1719/1719\u001b[0m \u001b[32m━━━━━━━━━━━━━━━━━━━━\u001b[0m\u001b[37m\u001b[0m \u001b[1m7s\u001b[0m 3ms/step - accuracy: 0.8272 - loss: 2.0706 - val_accuracy: 0.9404 - val_loss: 0.2145\n",
            "Epoch 2/50\n",
            "\u001b[1m1719/1719\u001b[0m \u001b[32m━━━━━━━━━━━━━━━━━━━━\u001b[0m\u001b[37m\u001b[0m \u001b[1m8s\u001b[0m 2ms/step - accuracy: 0.9434 - loss: 0.1997 - val_accuracy: 0.9586 - val_loss: 0.1471\n",
            "Epoch 3/50\n",
            "\u001b[1m1719/1719\u001b[0m \u001b[32m━━━━━━━━━━━━━━━━━━━━\u001b[0m\u001b[37m\u001b[0m \u001b[1m6s\u001b[0m 2ms/step - accuracy: 0.9553 - loss: 0.1589 - val_accuracy: 0.9660 - val_loss: 0.1191\n",
            "Epoch 4/50\n",
            "\u001b[1m1719/1719\u001b[0m \u001b[32m━━━━━━━━━━━━━━━━━━━━\u001b[0m\u001b[37m\u001b[0m \u001b[1m4s\u001b[0m 2ms/step - accuracy: 0.9630 - loss: 0.1273 - val_accuracy: 0.9650 - val_loss: 0.1377\n",
            "Epoch 5/50\n",
            "\u001b[1m1719/1719\u001b[0m \u001b[32m━━━━━━━━━━━━━━━━━━━━\u001b[0m\u001b[37m\u001b[0m \u001b[1m5s\u001b[0m 2ms/step - accuracy: 0.9680 - loss: 0.1083 - val_accuracy: 0.9688 - val_loss: 0.1233\n",
            "Epoch 6/50\n",
            "\u001b[1m1719/1719\u001b[0m \u001b[32m━━━━━━━━━━━━━━━━━━━━\u001b[0m\u001b[37m\u001b[0m \u001b[1m6s\u001b[0m 2ms/step - accuracy: 0.9756 - loss: 0.0833 - val_accuracy: 0.9676 - val_loss: 0.1211\n",
            "Epoch 7/50\n",
            "\u001b[1m1719/1719\u001b[0m \u001b[32m━━━━━━━━━━━━━━━━━━━━\u001b[0m\u001b[37m\u001b[0m \u001b[1m5s\u001b[0m 2ms/step - accuracy: 0.9779 - loss: 0.0734 - val_accuracy: 0.9702 - val_loss: 0.1156\n",
            "Epoch 8/50\n",
            "\u001b[1m1719/1719\u001b[0m \u001b[32m━━━━━━━━━━━━━━━━━━━━\u001b[0m\u001b[37m\u001b[0m \u001b[1m6s\u001b[0m 3ms/step - accuracy: 0.9804 - loss: 0.0683 - val_accuracy: 0.9744 - val_loss: 0.1043\n",
            "Epoch 9/50\n",
            "\u001b[1m1719/1719\u001b[0m \u001b[32m━━━━━━━━━━━━━━━━━━━━\u001b[0m\u001b[37m\u001b[0m \u001b[1m4s\u001b[0m 2ms/step - accuracy: 0.9815 - loss: 0.0621 - val_accuracy: 0.9722 - val_loss: 0.1290\n",
            "Epoch 10/50\n",
            "\u001b[1m1719/1719\u001b[0m \u001b[32m━━━━━━━━━━━━━━━━━━━━\u001b[0m\u001b[37m\u001b[0m \u001b[1m5s\u001b[0m 2ms/step - accuracy: 0.9847 - loss: 0.0540 - val_accuracy: 0.9758 - val_loss: 0.1104\n",
            "Epoch 11/50\n",
            "\u001b[1m1719/1719\u001b[0m \u001b[32m━━━━━━━━━━━━━━━━━━━━\u001b[0m\u001b[37m\u001b[0m \u001b[1m6s\u001b[0m 3ms/step - accuracy: 0.9870 - loss: 0.0479 - val_accuracy: 0.9768 - val_loss: 0.1023\n",
            "Epoch 12/50\n",
            "\u001b[1m1719/1719\u001b[0m \u001b[32m━━━━━━━━━━━━━━━━━━━━\u001b[0m\u001b[37m\u001b[0m \u001b[1m4s\u001b[0m 2ms/step - accuracy: 0.9889 - loss: 0.0416 - val_accuracy: 0.9744 - val_loss: 0.1205\n",
            "Epoch 13/50\n",
            "\u001b[1m1719/1719\u001b[0m \u001b[32m━━━━━━━━━━━━━━━━━━━━\u001b[0m\u001b[37m\u001b[0m \u001b[1m6s\u001b[0m 3ms/step - accuracy: 0.9889 - loss: 0.0441 - val_accuracy: 0.9712 - val_loss: 0.1432\n",
            "Epoch 14/50\n",
            "\u001b[1m1719/1719\u001b[0m \u001b[32m━━━━━━━━━━━━━━━━━━━━\u001b[0m\u001b[37m\u001b[0m \u001b[1m4s\u001b[0m 2ms/step - accuracy: 0.9878 - loss: 0.0487 - val_accuracy: 0.9782 - val_loss: 0.1109\n",
            "Epoch 15/50\n",
            "\u001b[1m1719/1719\u001b[0m \u001b[32m━━━━━━━━━━━━━━━━━━━━\u001b[0m\u001b[37m\u001b[0m \u001b[1m5s\u001b[0m 2ms/step - accuracy: 0.9902 - loss: 0.0346 - val_accuracy: 0.9764 - val_loss: 0.1468\n",
            "Epoch 16/50\n",
            "\u001b[1m1719/1719\u001b[0m \u001b[32m━━━━━━━━━━━━━━━━━━━━\u001b[0m\u001b[37m\u001b[0m \u001b[1m4s\u001b[0m 3ms/step - accuracy: 0.9914 - loss: 0.0354 - val_accuracy: 0.9760 - val_loss: 0.1242\n",
            "Epoch 17/50\n",
            "\u001b[1m1719/1719\u001b[0m \u001b[32m━━━━━━━━━━━━━━━━━━━━\u001b[0m\u001b[37m\u001b[0m \u001b[1m4s\u001b[0m 2ms/step - accuracy: 0.9903 - loss: 0.0377 - val_accuracy: 0.9766 - val_loss: 0.1302\n",
            "Epoch 18/50\n",
            "\u001b[1m1719/1719\u001b[0m \u001b[32m━━━━━━━━━━━━━━━━━━━━\u001b[0m\u001b[37m\u001b[0m \u001b[1m4s\u001b[0m 2ms/step - accuracy: 0.9927 - loss: 0.0301 - val_accuracy: 0.9794 - val_loss: 0.1440\n",
            "Epoch 19/50\n",
            "\u001b[1m1719/1719\u001b[0m \u001b[32m━━━━━━━━━━━━━━━━━━━━\u001b[0m\u001b[37m\u001b[0m \u001b[1m4s\u001b[0m 3ms/step - accuracy: 0.9924 - loss: 0.0294 - val_accuracy: 0.9804 - val_loss: 0.0945\n",
            "Epoch 20/50\n",
            "\u001b[1m1719/1719\u001b[0m \u001b[32m━━━━━━━━━━━━━━━━━━━━\u001b[0m\u001b[37m\u001b[0m \u001b[1m4s\u001b[0m 2ms/step - accuracy: 0.9922 - loss: 0.0309 - val_accuracy: 0.9816 - val_loss: 0.1199\n",
            "Epoch 21/50\n",
            "\u001b[1m1719/1719\u001b[0m \u001b[32m━━━━━━━━━━━━━━━━━━━━\u001b[0m\u001b[37m\u001b[0m \u001b[1m4s\u001b[0m 2ms/step - accuracy: 0.9942 - loss: 0.0246 - val_accuracy: 0.9762 - val_loss: 0.1609\n",
            "Epoch 22/50\n",
            "\u001b[1m1719/1719\u001b[0m \u001b[32m━━━━━━━━━━━━━━━━━━━━\u001b[0m\u001b[37m\u001b[0m \u001b[1m6s\u001b[0m 3ms/step - accuracy: 0.9921 - loss: 0.0348 - val_accuracy: 0.9802 - val_loss: 0.1311\n",
            "Epoch 23/50\n",
            "\u001b[1m1719/1719\u001b[0m \u001b[32m━━━━━━━━━━━━━━━━━━━━\u001b[0m\u001b[37m\u001b[0m \u001b[1m4s\u001b[0m 2ms/step - accuracy: 0.9945 - loss: 0.0238 - val_accuracy: 0.9792 - val_loss: 0.1338\n",
            "Epoch 24/50\n",
            "\u001b[1m1719/1719\u001b[0m \u001b[32m━━━━━━━━━━━━━━━━━━━━\u001b[0m\u001b[37m\u001b[0m \u001b[1m6s\u001b[0m 2ms/step - accuracy: 0.9943 - loss: 0.0219 - val_accuracy: 0.9802 - val_loss: 0.1315\n",
            "Epoch 25/50\n",
            "\u001b[1m1719/1719\u001b[0m \u001b[32m━━━━━━━━━━━━━━━━━━━━\u001b[0m\u001b[37m\u001b[0m \u001b[1m5s\u001b[0m 2ms/step - accuracy: 0.9938 - loss: 0.0270 - val_accuracy: 0.9804 - val_loss: 0.1156\n",
            "Epoch 26/50\n",
            "\u001b[1m1719/1719\u001b[0m \u001b[32m━━━━━━━━━━━━━━━━━━━━\u001b[0m\u001b[37m\u001b[0m \u001b[1m5s\u001b[0m 2ms/step - accuracy: 0.9945 - loss: 0.0238 - val_accuracy: 0.9816 - val_loss: 0.1332\n",
            "Epoch 27/50\n",
            "\u001b[1m1719/1719\u001b[0m \u001b[32m━━━━━━━━━━━━━━━━━━━━\u001b[0m\u001b[37m\u001b[0m \u001b[1m6s\u001b[0m 2ms/step - accuracy: 0.9945 - loss: 0.0230 - val_accuracy: 0.9794 - val_loss: 0.2080\n",
            "Epoch 28/50\n",
            "\u001b[1m1719/1719\u001b[0m \u001b[32m━━━━━━━━━━━━━━━━━━━━\u001b[0m\u001b[37m\u001b[0m \u001b[1m4s\u001b[0m 2ms/step - accuracy: 0.9939 - loss: 0.0283 - val_accuracy: 0.9786 - val_loss: 0.1259\n",
            "Epoch 29/50\n",
            "\u001b[1m1719/1719\u001b[0m \u001b[32m━━━━━━━━━━━━━━━━━━━━\u001b[0m\u001b[37m\u001b[0m \u001b[1m4s\u001b[0m 2ms/step - accuracy: 0.9945 - loss: 0.0227 - val_accuracy: 0.9808 - val_loss: 0.1197\n"
          ]
        }
      ],
      "source": [
        "#Train\n",
        "history = model.fit(X_train, y_train, epochs = 50,\n",
        "                    validation_data = (X_valid, y_valid),\n",
        "                    callbacks = [early_stopping_cb])"
      ]
    },
    {
      "cell_type": "code",
      "execution_count": 40,
      "metadata": {
        "id": "aEir1lQV3cTU",
        "outputId": "d7bd2a8c-c0ef-4bd6-8eb0-4a7ce61f6c7e",
        "colab": {
          "base_uri": "https://localhost:8080/"
        }
      },
      "outputs": [
        {
          "output_type": "stream",
          "name": "stdout",
          "text": [
            "\u001b[1m157/157\u001b[0m \u001b[32m━━━━━━━━━━━━━━━━━━━━\u001b[0m\u001b[37m\u001b[0m \u001b[1m0s\u001b[0m 2ms/step - accuracy: 0.9799 - loss: 0.0881\n"
          ]
        },
        {
          "output_type": "execute_result",
          "data": {
            "text/plain": [
              "[0.09446649253368378, 0.980400025844574]"
            ]
          },
          "metadata": {},
          "execution_count": 40
        }
      ],
      "source": [
        "#Test\n",
        "model.evaluate(X_valid, y_valid)"
      ]
    },
    {
      "cell_type": "markdown",
      "source": [
        "We got over 98% accuracy on the validation set"
      ],
      "metadata": {
        "id": "8qwFqkIhyifC"
      }
    }
  ],
  "metadata": {
    "accelerator": "GPU",
    "colab": {
      "gpuType": "T4",
      "provenance": []
    },
    "kernelspec": {
      "display_name": "Python 3",
      "name": "python3"
    },
    "language_info": {
      "codemirror_mode": {
        "name": "ipython",
        "version": 3
      },
      "file_extension": ".py",
      "mimetype": "text/x-python",
      "name": "python",
      "nbconvert_exporter": "python",
      "pygments_lexer": "ipython3",
      "version": "3.11.9"
    }
  },
  "nbformat": 4,
  "nbformat_minor": 0
}